{
 "cells": [
  {
   "cell_type": "code",
   "execution_count": 91,
   "metadata": {},
   "outputs": [],
   "source": [
    "from langchain.document_loaders import DirectoryLoader\n",
    "from langchain.text_splitter import CharacterTextSplitter\n",
    "from langchain.embeddings.openai import OpenAIEmbeddings\n",
    "import pinecone \n",
    "from langchain.vectorstores import Pinecone\n",
    "from langchain import OpenAI\n",
    "from langchain.chains import RetrievalQA\n",
    "import json\n",
    "import glob\n",
    "import os\n",
    "import random"
   ]
  },
  {
   "cell_type": "code",
   "execution_count": 65,
   "metadata": {},
   "outputs": [],
   "source": [
    "PINECONE_API_KEY = \"PINECONE_API_KEY\"\n",
    "PINECONE_ENV = \"PINECONE_ENV next to API_KEY\"\n",
    "OPENAI_API_KEY = \"OPENAI_API_KEY\"\n",
    "\n",
    "os.environ['OPENAI_API_KEY'] = OPENAI_API_KEY"
   ]
  },
  {
   "cell_type": "code",
   "execution_count": 82,
   "metadata": {},
   "outputs": [],
   "source": [
    "json_files = glob.glob('../data/*.json')\n",
    "\n",
    "data = []\n",
    "\n",
    "for file in json_files:\n",
    "    with open(file, 'r', encoding='utf-8') as f:\n",
    "        for line in f:\n",
    "            data.append(json.loads(line))\n",
    "\n",
    "data = [{'price': e['price'],\n",
    "         'title': e['title'],\n",
    "         'size_and_rooms': e['size_and_rooms'],\n",
    "         'location': e['location'],\n",
    "         'description': e['description'],\n",
    "    } for e in data]\n",
    "\n",
    "for i in range(len(data)):\n",
    "    data[i]['price'] = data[i]['price'].replace('\\xa0', ' ')\n",
    "    for e in ['title', 'size_and_rooms', 'location', 'description']:\n",
    "        try:\n",
    "            data[i][e] = data[i][e].encode('latin1').decode('utf8')\n",
    "        except: pass\n",
    "\n",
    "data = [' '.join([f'\"{key}\": {e[key]};' for key in e.keys()]) for e in data]"
   ]
  },
  {
   "cell_type": "code",
   "execution_count": 85,
   "metadata": {},
   "outputs": [],
   "source": [
    "data = random.sample(data, 200)"
   ]
  },
  {
   "cell_type": "code",
   "execution_count": 87,
   "metadata": {},
   "outputs": [],
   "source": [
    "embeddings = OpenAIEmbeddings()\n",
    "pinecone.init(\n",
    "    api_key=PINECONE_API_KEY,\n",
    "    environment=PINECONE_ENV\n",
    ")\n",
    "\n",
    "data_db = Pinecone.from_texts(\n",
    "    data, \n",
    "    embeddings, \n",
    "    index_name='langchain-bot'\n",
    ")"
   ]
  },
  {
   "cell_type": "code",
   "execution_count": 89,
   "metadata": {},
   "outputs": [
    {
     "data": {
      "text/plain": [
       "[Document(page_content='\"price\": 2 625 000 DH; \"title\": Joli Appt à vendre sur BD MOULAY IDRISS I; \"size_and_rooms\": None; \"location\": Mers Sultan à Casablanca; \"description\": nous vous apportons une grande opportunité pour les familles qui cherchent la stabilité au centre de casablanca avec un prix négociable. dans une résidence calme et propre, avec ascenseur, on trouve ce ... En savoir plus;', metadata={}),\n",
       " Document(page_content='\"price\": 1 200 000 DH; \"title\": Opportunité à ne pas rater; \"size_and_rooms\": None; \"location\": Ain Chock à Casablanca; \"description\": bonjour appartement à vendre à côté du bd al qods113m2 bien ensoleillé 4ème etage. 3 chambres dont une suite parentale , doubke salon, séjour, 2sdb wc, cuisine équipée . prix : 1 200 000 dh télé :;', metadata={}),\n",
       " Document(page_content='\"price\": 1 120 000 DH; \"title\": Appartement 98m² 5 min de Casanearshore; \"size_and_rooms\": None; \"location\": Sidi Maarouf à Casablanca; \"description\": je mets en vente un appartement de 98m au 2eme étage, pas loin de casanearshore, composé de 3 chambres, cuisine, sdb, salon et un grand balcon, deux facades, ensoleillé, parking au sous sol... pour plus ... En savoir plus;', metadata={}),\n",
       " Document(page_content='\"price\": 1 000 000 DH; \"title\": Joli studio avec terrasse à vendre à Maar...; \"size_and_rooms\": 1 chambre, 61 m²; \"location\": Maârif à Casablanca; \"description\": nous mettons ce lumineux studio moderne à l’achat qui se situe à maarif côté de mcdonald’s le studio est bien agencé et bien orienté avec un terrasse de 21m/2 ensoleillé la journée très bon voisinage ... En savoir plus;', metadata={})]"
      ]
     },
     "execution_count": 89,
     "metadata": {},
     "output_type": "execute_result"
    }
   ],
   "source": [
    "query = \"une maison de 60m2 avec un prix qui ne dépasse pas 1200000DH\"\n",
    "search_docs = data_db.similarity_search(query)\n",
    "search_docs"
   ]
  },
  {
   "cell_type": "code",
   "execution_count": 99,
   "metadata": {},
   "outputs": [
    {
     "data": {
      "text/plain": [
       "'Désolé, je n\\'ai pas d\\'informations sur une maison de 60m2 avec un prix qui ne dépasse pas 1200000DH. Cependant, voici une annonce qui correspond à votre budget : \"Joli studio avec terrasse à vendre à Maarif\" avec une taille de 61 m² et un prix de 1 000 000 DH.'"
      ]
     },
     "execution_count": 99,
     "metadata": {},
     "output_type": "execute_result"
    }
   ],
   "source": [
    "from langchain.chat_models import ChatOpenAI\n",
    "llm = ChatOpenAI()\n",
    "\n",
    "qa = RetrievalQA.from_chain_type(\n",
    "    llm=llm, \n",
    "    chain_type='stuff',\n",
    "    retriever=data_db.as_retriever(),\n",
    ")\n",
    "\n",
    "query = \"une maison de 60m2 avec un prix qui ne dépasse pas 1200000DH\"\n",
    "result = qa.run(query)\n",
    "\n",
    "result"
   ]
  },
  {
   "cell_type": "code",
   "execution_count": null,
   "metadata": {},
   "outputs": [],
   "source": []
  }
 ],
 "metadata": {
  "kernelspec": {
   "display_name": "venv310",
   "language": "python",
   "name": "venv310"
  },
  "language_info": {
   "codemirror_mode": {
    "name": "ipython",
    "version": 3
   },
   "file_extension": ".py",
   "mimetype": "text/x-python",
   "name": "python",
   "nbconvert_exporter": "python",
   "pygments_lexer": "ipython3",
   "version": "3.10.11"
  }
 },
 "nbformat": 4,
 "nbformat_minor": 2
}
